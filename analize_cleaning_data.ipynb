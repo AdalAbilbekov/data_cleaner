{
 "cells": [
  {
   "cell_type": "code",
   "execution_count": 2,
   "metadata": {},
   "outputs": [],
   "source": [
    "import pandas as pd\n",
    "import numpy as np\n",
    "# import matplotlib.pyplot as plt\n",
    "import torch\n",
    "import os\n",
    "import glob\n",
    "import os\n",
    "import tqdm"
   ]
  },
  {
   "cell_type": "code",
   "execution_count": 5,
   "metadata": {},
   "outputs": [],
   "source": [
    "nur_inform = glob.glob('/mnt/storage/crowl/adal_work/the_whole_cleaned_data/*.csv')\n",
    "two_links = glob.glob('/mnt/storage/crowl/adal_work/two_k_links/*.csv')"
   ]
  },
  {
   "cell_type": "code",
   "execution_count": 7,
   "metadata": {},
   "outputs": [
    {
     "data": {
      "text/plain": [
       "(187, 125)"
      ]
     },
     "execution_count": 7,
     "metadata": {},
     "output_type": "execute_result"
    }
   ],
   "source": [
    "len(nur_inform), len(two_links)"
   ]
  },
  {
   "cell_type": "code",
   "execution_count": 9,
   "metadata": {},
   "outputs": [
    {
     "data": {
      "text/plain": [
       "'/mnt/storage/crowl/adal_work/the_whole_cleaned_data/20240424071522.csv'"
      ]
     },
     "execution_count": 9,
     "metadata": {},
     "output_type": "execute_result"
    }
   ],
   "source": [
    "nur_inform[0]"
   ]
  },
  {
   "cell_type": "code",
   "execution_count": 12,
   "metadata": {},
   "outputs": [
    {
     "data": {
      "text/plain": [
       "32      Астанада мемлекеттік және жеке меншік әріптест...\n",
       "38      Елордада Каспий теңізінің құқықтық мәртебесі т...\n",
       "41      Қазақстан мен Мысыр арасында дипломатиялық қат...\n",
       "43      Үкімет басшысының қатысуымен Астанада «Мемлеке...\n",
       "44      Үкімет құрамында шет елдердегі отандастармен ж...\n",
       "                              ...                        \n",
       "1487    АвторТанымдық материалдар авторы, журналист, р...\n",
       "1488    Бұрынғы редакторБұрынғы редактор, NUR.KZ порта...\n",
       "1491    Seo-редакторҚазақ редакциясының seo-редакторы,...\n",
       "1493    Қазақ редакциясының басшысы, журналист, редакт...\n",
       "1494    Бұрынғы қызметкерРедактор. KAZ.NUR.KZ порталын...\n",
       "Name: data, Length: 842, dtype: object"
      ]
     },
     "execution_count": 12,
     "metadata": {},
     "output_type": "execute_result"
    }
   ],
   "source": [
    "df = pd.read_csv(nur_inform[0])\n",
    "df[df['language_id'] == 'KAZAKH']['data'].drop_duplicates()"
   ]
  },
  {
   "cell_type": "code",
   "execution_count": 49,
   "metadata": {},
   "outputs": [
    {
     "name": "stderr",
     "output_type": "stream",
     "text": [
      "100%|██████████| 187/187 [00:25<00:00,  7.21it/s]\n"
     ]
    }
   ],
   "source": [
    "kazakh = []\n",
    "russian = []\n",
    "english = []\n",
    "\n",
    "for df in tqdm.tqdm(nur_inform):\n",
    "    df = pd.read_csv(df)\n",
    "    kazakh.append(df[df['language_id'] == 'KAZAKH']['data'].drop_duplicates().to_list())\n",
    "    russian.append(df[df['language_id'] == 'RUSSIAN']['data'].drop_duplicates().to_list())\n",
    "    english.append(df[df['language_id'] == 'ENGLISH']['data'].drop_duplicates().to_list())"
   ]
  },
  {
   "cell_type": "code",
   "execution_count": 50,
   "metadata": {},
   "outputs": [],
   "source": [
    "one_big_string_kz = []\n",
    "for data in kazakh:\n",
    "    text = ' '.join(data).replace('\\n', ' ')\n",
    "    one_big_string_kz.append(text)\n",
    "\n",
    "one_big_string_ru = []\n",
    "for data in russian:\n",
    "    text = ' '.join(data).replace('\\n', ' ')\n",
    "    one_big_string_ru.append(text)\n",
    "\n",
    "one_big_string_en = []\n",
    "for data in english:\n",
    "    text = ' '.join(data).replace('\\n', ' ')\n",
    "    one_big_string_en.append(text)"
   ]
  },
  {
   "cell_type": "code",
   "execution_count": 51,
   "metadata": {},
   "outputs": [
    {
     "data": {
      "text/plain": [
       "(187, 187, 187)"
      ]
     },
     "execution_count": 51,
     "metadata": {},
     "output_type": "execute_result"
    }
   ],
   "source": [
    "len(one_big_string_kz),len(one_big_string_ru),len(one_big_string_en)"
   ]
  },
  {
   "cell_type": "code",
   "execution_count": 52,
   "metadata": {},
   "outputs": [],
   "source": [
    "num_tok_kz = ' '.join(one_big_string_kz)\n",
    "num_tok_en = ' '.join(one_big_string_en)\n",
    "num_tok_ru = ' '.join(one_big_string_ru)"
   ]
  },
  {
   "cell_type": "code",
   "execution_count": 53,
   "metadata": {},
   "outputs": [
    {
     "data": {
      "text/plain": [
       "(9708291, 58919213, 161493081)"
      ]
     },
     "execution_count": 53,
     "metadata": {},
     "output_type": "execute_result"
    }
   ],
   "source": [
    "len(num_tok_kz.split()), len(num_tok_en.split()), len(num_tok_ru.split())"
   ]
  },
  {
   "cell_type": "code",
   "execution_count": null,
   "metadata": {},
   "outputs": [],
   "source": [
    "# 28 mln kazakh tokkens approximately"
   ]
  },
  {
   "cell_type": "code",
   "execution_count": 56,
   "metadata": {},
   "outputs": [
    {
     "name": "stderr",
     "output_type": "stream",
     "text": [
      "100%|██████████| 125/125 [00:13<00:00,  9.31it/s]\n"
     ]
    }
   ],
   "source": [
    "kazakh = []\n",
    "russian = []\n",
    "english = []\n",
    "\n",
    "for df in tqdm.tqdm(two_links):\n",
    "    df = pd.read_csv(df)\n",
    "    kazakh.append(df[df['language_id'] == 'KAZAKH']['data'].drop_duplicates().to_list())\n",
    "    russian.append(df[df['language_id'] == 'RUSSIAN']['data'].drop_duplicates().to_list())\n",
    "    english.append(df[df['language_id'] == 'ENGLISH']['data'].drop_duplicates().to_list())"
   ]
  },
  {
   "cell_type": "code",
   "execution_count": 57,
   "metadata": {},
   "outputs": [],
   "source": [
    "one_big_string_kz = []\n",
    "for data in kazakh:\n",
    "    text = ' '.join(data).replace('\\n', ' ')\n",
    "    one_big_string_kz.append(text)\n",
    "\n",
    "one_big_string_ru = []\n",
    "for data in russian:\n",
    "    text = ' '.join(data).replace('\\n', ' ')\n",
    "    one_big_string_ru.append(text)\n",
    "\n",
    "one_big_string_en = []\n",
    "for data in english:\n",
    "    text = ' '.join(data).replace('\\n', ' ')\n",
    "    one_big_string_en.append(text)"
   ]
  },
  {
   "cell_type": "code",
   "execution_count": 58,
   "metadata": {},
   "outputs": [
    {
     "data": {
      "text/plain": [
       "(125, 125, 125)"
      ]
     },
     "execution_count": 58,
     "metadata": {},
     "output_type": "execute_result"
    }
   ],
   "source": [
    "len(one_big_string_kz),len(one_big_string_ru),len(one_big_string_en)"
   ]
  },
  {
   "cell_type": "code",
   "execution_count": 59,
   "metadata": {},
   "outputs": [],
   "source": [
    "num_tok_kz = ' '.join(one_big_string_kz)\n",
    "num_tok_en = ' '.join(one_big_string_en)\n",
    "num_tok_ru = ' '.join(one_big_string_ru)"
   ]
  },
  {
   "cell_type": "code",
   "execution_count": 60,
   "metadata": {},
   "outputs": [
    {
     "data": {
      "text/plain": [
       "(44979078, 2430493, 54423833)"
      ]
     },
     "execution_count": 60,
     "metadata": {},
     "output_type": "execute_result"
    }
   ],
   "source": [
    "len(num_tok_kz.split()), len(num_tok_en.split()), len(num_tok_ru.split())"
   ]
  },
  {
   "cell_type": "code",
   "execution_count": null,
   "metadata": {},
   "outputs": [],
   "source": [
    "\"\"\"\n",
    "1) 2 websites, inform.kz, nur.kz approximately 28mln kazakh data 5 days\n",
    "2) 9708291 kz, 58919213 eng, 161493081 ru\n",
    "3) 2000 links for 12 hours 44979078 kz, 2430493 eng, 54423833 ru\n",
    "\"\"\""
   ]
  }
 ],
 "metadata": {
  "kernelspec": {
   "display_name": "dl_work",
   "language": "python",
   "name": "python3"
  },
  "language_info": {
   "codemirror_mode": {
    "name": "ipython",
    "version": 3
   },
   "file_extension": ".py",
   "mimetype": "text/x-python",
   "name": "python",
   "nbconvert_exporter": "python",
   "pygments_lexer": "ipython3",
   "version": "3.12.3"
  }
 },
 "nbformat": 4,
 "nbformat_minor": 2
}
