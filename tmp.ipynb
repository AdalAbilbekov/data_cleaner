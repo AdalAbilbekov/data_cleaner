{
 "cells": [
  {
   "cell_type": "code",
   "execution_count": 6,
   "metadata": {},
   "outputs": [],
   "source": [
    "import requests\n",
    "import tqdm\n",
    "# from multiprocessing.pool import ThreadPool as Pool\n",
    "import urllib\n",
    "import random\n",
    "import os"
   ]
  },
  {
   "cell_type": "code",
   "execution_count": 7,
   "metadata": {},
   "outputs": [],
   "source": [
    "with open('/mnt/storage/crowl/adal_work/python_projects/domains_all.txt', 'r') as txt_file:\n",
    "    links = txt_file.readlines()\n"
   ]
  },
  {
   "cell_type": "code",
   "execution_count": 8,
   "metadata": {},
   "outputs": [],
   "source": [
    "random_links = []\n",
    "for link_id in range(2000):\n",
    "    random_links.append(random.choice(links).replace('\\n', ''))"
   ]
  },
  {
   "cell_type": "code",
   "execution_count": 9,
   "metadata": {},
   "outputs": [
    {
     "data": {
      "text/plain": [
       "['aurumpumpen.kz',\n",
       " 'datchiki.kz',\n",
       " 'opinions.kz',\n",
       " 'businesswomen.kz',\n",
       " 'library-uko.kz',\n",
       " 'ariba.kz',\n",
       " 'mebel-park.kz',\n",
       " 'upayment.kz',\n",
       " 'melnikova-makkart.kz',\n",
       " 'shpunt-steels.kz']"
      ]
     },
     "execution_count": 9,
     "metadata": {},
     "output_type": "execute_result"
    }
   ],
   "source": [
    "random_links[:10]"
   ]
  },
  {
   "cell_type": "code",
   "execution_count": 10,
   "metadata": {},
   "outputs": [],
   "source": [
    "from urllib.parse import urlparse\n",
    "import http.client\n",
    "import sys\n",
    "\n",
    "def check_url(url):\n",
    "    url = urlparse(url)\n",
    "    conn = http.client.HTTPConnection(url.netloc)\n",
    "    conn.request('HEAD', url.path)\n",
    "    if conn.getresponse():\n",
    "        return True\n",
    "    else:\n",
    "        return False"
   ]
  },
  {
   "cell_type": "code",
   "execution_count": 11,
   "metadata": {},
   "outputs": [
    {
     "name": "stderr",
     "output_type": "stream",
     "text": [
      "  2%|▏         | 41/2000 [02:42<22:16:26, 40.93s/it]"
     ]
    },
    {
     "name": "stdout",
     "output_type": "stream",
     "text": [
      "gauhar.kz\n"
     ]
    },
    {
     "name": "stderr",
     "output_type": "stream",
     "text": [
      "  9%|▉         | 184/2000 [04:00<21:27,  1.41it/s]  "
     ]
    },
    {
     "name": "stdout",
     "output_type": "stream",
     "text": [
      "bekzatboxing.kz\n"
     ]
    },
    {
     "name": "stderr",
     "output_type": "stream",
     "text": [
      " 14%|█▍        | 286/2000 [05:17<08:13,  3.47it/s]  "
     ]
    },
    {
     "name": "stdout",
     "output_type": "stream",
     "text": [
      "coukuzet.kz\n"
     ]
    },
    {
     "name": "stderr",
     "output_type": "stream",
     "text": [
      " 17%|█▋        | 338/2000 [05:42<16:34,  1.67it/s]"
     ]
    },
    {
     "name": "stdout",
     "output_type": "stream",
     "text": [
      "smart-business.kz\n"
     ]
    },
    {
     "name": "stderr",
     "output_type": "stream",
     "text": [
      " 39%|███▉      | 783/2000 [10:05<06:18,  3.22it/s]  "
     ]
    },
    {
     "name": "stdout",
     "output_type": "stream",
     "text": [
      "apgca.kz\n"
     ]
    },
    {
     "name": "stderr",
     "output_type": "stream",
     "text": [
      " 43%|████▎     | 856/2000 [13:07<12:55:19, 40.66s/it]"
     ]
    },
    {
     "name": "stdout",
     "output_type": "stream",
     "text": [
      "eksh.kz\n"
     ]
    },
    {
     "name": "stderr",
     "output_type": "stream",
     "text": [
      " 48%|████▊     | 954/2000 [13:56<07:42,  2.26it/s]   "
     ]
    },
    {
     "name": "stdout",
     "output_type": "stream",
     "text": [
      "belholod.kz\n"
     ]
    },
    {
     "name": "stderr",
     "output_type": "stream",
     "text": [
      " 54%|█████▍    | 1080/2000 [14:53<09:02,  1.70it/s]"
     ]
    },
    {
     "name": "stdout",
     "output_type": "stream",
     "text": [
      "uniq.kz\n"
     ]
    },
    {
     "name": "stderr",
     "output_type": "stream",
     "text": [
      " 62%|██████▏   | 1247/2000 [17:30<04:19,  2.90it/s]  "
     ]
    },
    {
     "name": "stdout",
     "output_type": "stream",
     "text": [
      "almaty-partner.kz\n"
     ]
    },
    {
     "name": "stderr",
     "output_type": "stream",
     "text": [
      " 81%|████████▏ | 1626/2000 [23:32<3:52:03, 37.23s/it]"
     ]
    },
    {
     "name": "stdout",
     "output_type": "stream",
     "text": [
      "eksh.kz\n"
     ]
    },
    {
     "name": "stderr",
     "output_type": "stream",
     "text": [
      " 85%|████████▌ | 1704/2000 [24:12<01:32,  3.19it/s]  "
     ]
    },
    {
     "name": "stdout",
     "output_type": "stream",
     "text": [
      "nurtau.kz\n"
     ]
    },
    {
     "name": "stderr",
     "output_type": "stream",
     "text": [
      "100%|██████████| 2000/2000 [27:16<00:00,  1.22it/s]\n"
     ]
    }
   ],
   "source": [
    "correct_urls = []\n",
    "\n",
    "for link in tqdm.tqdm(random_links):\n",
    "    url = 'http://' + link\n",
    "    url_https = 'https://' + link\n",
    "    try:\n",
    "        if check_url(url_https):\n",
    "            # print('Nice, you can load it with https')\n",
    "            correct_urls.append(url_https)\n",
    "        else:\n",
    "            if check_url(url):\n",
    "                # print('https didnt load but you can use http')\n",
    "                correct_urls.append(url)\n",
    "    except:\n",
    "        print(link)\n",
    "    # if check_url(url):\n",
    "    #     print('Nice, it does load with http too')"
   ]
  },
  {
   "cell_type": "code",
   "execution_count": 12,
   "metadata": {},
   "outputs": [],
   "source": [
    "wiki = 'https://kk.wikipedia.org/'"
   ]
  },
  {
   "cell_type": "code",
   "execution_count": 17,
   "metadata": {},
   "outputs": [
    {
     "data": {
      "text/plain": [
       "['https://aurumpumpen.kz/', 'https://datchiki.kz/', 'https://opinions.kz/']"
      ]
     },
     "execution_count": 17,
     "metadata": {},
     "output_type": "execute_result"
    }
   ],
   "source": [
    "final_part = [f'{url}/' for url in correct_urls]\n",
    "final_part[:3]"
   ]
  },
  {
   "cell_type": "code",
   "execution_count": 18,
   "metadata": {},
   "outputs": [],
   "source": [
    "final_part.append(wiki)"
   ]
  },
  {
   "cell_type": "code",
   "execution_count": 19,
   "metadata": {},
   "outputs": [
    {
     "data": {
      "text/plain": [
       "1990"
      ]
     },
     "execution_count": 19,
     "metadata": {},
     "output_type": "execute_result"
    }
   ],
   "source": [
    "len(final_part)"
   ]
  },
  {
   "cell_type": "code",
   "execution_count": 21,
   "metadata": {},
   "outputs": [
    {
     "name": "stderr",
     "output_type": "stream",
     "text": [
      "100%|██████████| 1990/1990 [00:00<00:00, 921570.60it/s]\n"
     ]
    }
   ],
   "source": [
    "with open('seed.txt', 'w') as txt_file:\n",
    "    for item in tqdm.tqdm(final_part):\n",
    "        txt_file.write(\"%s\\n\" % item)"
   ]
  },
  {
   "cell_type": "code",
   "execution_count": 51,
   "metadata": {},
   "outputs": [
    {
     "name": "stdout",
     "output_type": "stream",
     "text": [
      "https://aurumpumpen\\.kz/\n"
     ]
    }
   ],
   "source": [
    "check_regex = final_part[0].split('.')\n",
    "m = fr'{check_regex[0]}\\.{check_regex[1]}'\n",
    "print(m)"
   ]
  },
  {
   "cell_type": "code",
   "execution_count": 83,
   "metadata": {},
   "outputs": [],
   "source": [
    "def getting_regex(check_regex):\n",
    "    check_regex = check_regex.split('.')\n",
    "    separator = r\"\\.\"\n",
    "    get_back_str = separator.join(check_regex)\n",
    "    get_back_str = get_back_str.split(':')\n",
    "    separator = r\"?:\"\n",
    "    get_back_str = separator.join(get_back_str)\n",
    "    backslash_i = get_back_str.index('/')\n",
    "    return '+^' + get_back_str[:backslash_i] + r'//([a-z0-9-]+\\.)*' + get_back_str[backslash_i + 2:]"
   ]
  },
  {
   "cell_type": "code",
   "execution_count": null,
   "metadata": {},
   "outputs": [],
   "source": [
    "# +^https?://([a-z0-9-]+\\.)*inform\\.kz/"
   ]
  },
  {
   "cell_type": "code",
   "execution_count": 84,
   "metadata": {},
   "outputs": [],
   "source": [
    "regex_url = map(getting_regex, final_part)"
   ]
  },
  {
   "cell_type": "code",
   "execution_count": 85,
   "metadata": {},
   "outputs": [
    {
     "data": {
      "text/plain": [
       "['+^https?://([a-z0-9-]+\\\\.)*aurumpumpen\\\\.kz/',\n",
       " '+^https?://([a-z0-9-]+\\\\.)*datchiki\\\\.kz/',\n",
       " '+^https?://([a-z0-9-]+\\\\.)*opinions\\\\.kz/']"
      ]
     },
     "execution_count": 85,
     "metadata": {},
     "output_type": "execute_result"
    }
   ],
   "source": [
    "regex_url = list(regex_url)\n",
    "regex_url[:3]"
   ]
  },
  {
   "cell_type": "code",
   "execution_count": 86,
   "metadata": {},
   "outputs": [],
   "source": [
    "with open('regex_urls.txt', 'w') as txt_file:\n",
    "    for item in regex_url:\n",
    "        txt_file.write(\"%s\\n\" % item)"
   ]
  },
  {
   "cell_type": "code",
   "execution_count": 3,
   "metadata": {},
   "outputs": [],
   "source": [
    "with open('/mnt/storage/crowl/adal_work/python_projects/data_cleaner/cleaning.log', 'r') as txt_file:\n",
    "    check = txt_file.readlines()"
   ]
  },
  {
   "cell_type": "code",
   "execution_count": 4,
   "metadata": {},
   "outputs": [],
   "source": [
    "data = []\n",
    "for i in check:\n",
    "    if 'Tokens all' in i:\n",
    "        data.append(i)"
   ]
  },
  {
   "cell_type": "code",
   "execution_count": 5,
   "metadata": {},
   "outputs": [
    {
     "data": {
      "text/plain": [
       "['INFO:__main__:Segment: 20240430230939 | Date: 2024-04-30 23:25:23 | Tokens all: 80817 | Tokens cleaned: 80633\\n',\n",
       " 'INFO:__main__:Segment: 20240501084938 | Date: 2024-05-01 10:46:20 | Tokens all: 808702 | Tokens cleaned: 808345\\n',\n",
       " 'INFO:__main__:Segment: 20240501072654 | Date: 2024-05-01 10:46:20 | Tokens all: 156344 | Tokens cleaned: 155832\\n',\n",
       " 'INFO:__main__:Segment: 20240501044226 | Date: 2024-05-01 10:46:20 | Tokens all: 1143013 | Tokens cleaned: 1133486\\n',\n",
       " 'INFO:__main__:Segment: 20240501075628 | Date: 2024-05-01 10:46:20 | Tokens all: 136486 | Tokens cleaned: 135974\\n',\n",
       " 'INFO:__main__:Segment: 20240501092805 | Date: 2024-05-01 10:46:20 | Tokens all: 146166 | Tokens cleaned: 145718\\n',\n",
       " 'INFO:__main__:Segment: 20240501022931 | Date: 2024-05-01 10:46:20 | Tokens all: 29132 | Tokens cleaned: 29132\\n',\n",
       " 'INFO:__main__:Segment: 20240501100347 | Date: 2024-05-01 10:46:20 | Tokens all: 1315113 | Tokens cleaned: 1302506\\n',\n",
       " 'INFO:__main__:Segment: 20240501060430 | Date: 2024-05-01 10:46:20 | Tokens all: 119310 | Tokens cleaned: 118953\\n',\n",
       " 'INFO:__main__:Segment: 20240501015134 | Date: 2024-05-01 10:46:20 | Tokens all: 683698 | Tokens cleaned: 634237\\n',\n",
       " 'INFO:__main__:Segment: 20240501050545 | Date: 2024-05-01 10:46:20 | Tokens all: 124769 | Tokens cleaned: 124412\\n',\n",
       " 'INFO:__main__:Segment: 20240501063842 | Date: 2024-05-01 10:46:20 | Tokens all: 1304141 | Tokens cleaned: 1291988\\n',\n",
       " 'INFO:__main__:Segment: 20240501002452 | Date: 2024-05-01 10:46:20 | Tokens all: 623368 | Tokens cleaned: 609889\\n',\n",
       " 'INFO:__main__:Segment: 20240501012207 | Date: 2024-05-01 10:46:20 | Tokens all: 314800 | Tokens cleaned: 303223\\n',\n",
       " 'INFO:__main__:Segment: 20240501032516 | Date: 2024-05-01 10:46:20 | Tokens all: 627088 | Tokens cleaned: 619063\\n',\n",
       " 'INFO:__main__:Segment: 20240501030216 | Date: 2024-05-01 10:46:20 | Tokens all: 20732 | Tokens cleaned: 20732\\n',\n",
       " 'INFO:__main__:Segment: 20240501080236 | Date: 2024-05-01 10:46:20 | Tokens all: 1241502 | Tokens cleaned: 1229725\\n',\n",
       " 'INFO:__main__:Segment: 20240501051155 | Date: 2024-05-01 10:46:20 | Tokens all: 1115297 | Tokens cleaned: 1105871\\n',\n",
       " 'INFO:__main__:Segment: 20240501040717 | Date: 2024-05-01 10:46:20 | Tokens all: 49335 | Tokens cleaned: 48978\\n',\n",
       " 'INFO:__main__:Segment: 20240501035643 | Date: 2024-05-01 10:46:20 | Tokens all: 27865 | Tokens cleaned: 27865\\n',\n",
       " 'INFO:__main__:Segment: 20240501043627 | Date: 2024-05-01 10:46:20 | Tokens all: 72176 | Tokens cleaned: 71819\\n',\n",
       " 'INFO:__main__:Segment: 20240501082555 | Date: 2024-05-01 10:46:20 | Tokens all: 1409103 | Tokens cleaned: 1394896\\n',\n",
       " 'INFO:__main__:Segment: 20240501073311 | Date: 2024-05-01 10:46:20 | Tokens all: 1248488 | Tokens cleaned: 1236425\\n',\n",
       " 'INFO:__main__:Segment: 20240430232521 | Date: 2024-05-01 10:46:20 | Tokens all: 704473 | Tokens cleaned: 683933\\n',\n",
       " 'INFO:__main__:Segment: 20240501023832 | Date: 2024-05-01 10:46:20 | Tokens all: 25635 | Tokens cleaned: 25635\\n',\n",
       " 'INFO:__main__:Segment: 20240501024654 | Date: 2024-05-01 10:46:20 | Tokens all: 1181192 | Tokens cleaned: 1148415\\n',\n",
       " 'INFO:__main__:Segment: 20240501061513 | Date: 2024-05-01 10:46:20 | Tokens all: 1237784 | Tokens cleaned: 1225804\\n',\n",
       " 'INFO:__main__:Segment: 20240501005941 | Date: 2024-05-01 10:46:20 | Tokens all: 493309 | Tokens cleaned: 468733\\n',\n",
       " 'INFO:__main__:Segment: 20240501053509 | Date: 2024-05-01 10:46:20 | Tokens all: 62661 | Tokens cleaned: 62304\\n',\n",
       " 'INFO:__main__:Segment: 20240501031654 | Date: 2024-05-01 10:46:20 | Tokens all: 38390 | Tokens cleaned: 38390\\n',\n",
       " 'INFO:__main__:Segment: 20240501041315 | Date: 2024-05-01 10:46:20 | Tokens all: 1081533 | Tokens cleaned: 1073209\\n',\n",
       " 'INFO:__main__:Segment: 20240501034235 | Date: 2024-05-01 10:46:20 | Tokens all: 1215837 | Tokens cleaned: 1195482\\n',\n",
       " 'INFO:__main__:Segment: 20240501093414 | Date: 2024-05-01 10:46:20 | Tokens all: 1310788 | Tokens cleaned: 1298143\\n',\n",
       " 'INFO:__main__:Segment: 20240501033444 | Date: 2024-05-01 10:46:20 | Tokens all: 31292 | Tokens cleaned: 31292\\n',\n",
       " 'INFO:__main__:Segment: 20240501095738 | Date: 2024-05-01 10:46:20 | Tokens all: 173427 | Tokens cleaned: 172979\\n',\n",
       " 'INFO:__main__:Segment: 20240501090519 | Date: 2024-05-01 10:46:20 | Tokens all: 685929 | Tokens cleaned: 672011\\n',\n",
       " 'INFO:__main__:Segment: 20240501103306 | Date: 2024-05-01 10:46:20 | Tokens all: 1437048 | Tokens cleaned: 1422485\\n',\n",
       " 'INFO:__main__:Segment: 20240501065715 | Date: 2024-05-01 10:46:20 | Tokens all: 98186 | Tokens cleaned: 97829\\n',\n",
       " 'INFO:__main__:Segment: 20240501102705 | Date: 2024-05-01 10:46:20 | Tokens all: 88511 | Tokens cleaned: 88154\\n',\n",
       " 'INFO:__main__:Segment: 20240501054108 | Date: 2024-05-01 10:46:20 | Tokens all: 1199946 | Tokens cleaned: 1189278\\n',\n",
       " 'INFO:__main__:Segment: 20240501115002 | Date: 2024-05-01 15:22:41 | Tokens all: 145238 | Tokens cleaned: 144881\\n',\n",
       " 'INFO:__main__:Segment: 20240501112619 | Date: 2024-05-01 15:22:41 | Tokens all: 1659176 | Tokens cleaned: 1643330\\n',\n",
       " 'INFO:__main__:Segment: 20240501132755 | Date: 2024-05-01 15:22:41 | Tokens all: 92612 | Tokens cleaned: 92204\\n',\n",
       " 'INFO:__main__:Segment: 20240501120019 | Date: 2024-05-01 15:22:41 | Tokens all: 1675897 | Tokens cleaned: 1658803\\n',\n",
       " 'INFO:__main__:Segment: 20240501125343 | Date: 2024-05-01 15:22:41 | Tokens all: 29280 | Tokens cleaned: 28872\\n',\n",
       " 'INFO:__main__:Segment: 20240501122403 | Date: 2024-05-01 15:22:41 | Tokens all: 170884 | Tokens cleaned: 170527\\n',\n",
       " 'INFO:__main__:Segment: 20240501070332 | Date: 2024-05-01 15:22:41 | Tokens all: 1252853 | Tokens cleaned: 1240829\\n',\n",
       " 'INFO:__main__:Segment: 20240501142727 | Date: 2024-05-01 15:22:41 | Tokens all: 1617850 | Tokens cleaned: 1602340\\n',\n",
       " 'INFO:__main__:Segment: 20240501130406 | Date: 2024-05-01 15:22:41 | Tokens all: 1612516 | Tokens cleaned: 1596286\\n',\n",
       " 'INFO:__main__:Segment: 20240501110249 | Date: 2024-05-01 15:22:41 | Tokens all: 1481322 | Tokens cleaned: 1467580\\n',\n",
       " 'INFO:__main__:Segment: 20240501135734 | Date: 2024-05-01 15:22:41 | Tokens all: 1669870 | Tokens cleaned: 1653026\\n',\n",
       " 'INFO:__main__:Segment: 20240501133402 | Date: 2024-05-01 15:22:41 | Tokens all: 1508773 | Tokens cleaned: 1492718\\n',\n",
       " 'INFO:__main__:Segment: 20240501142126 | Date: 2024-05-01 15:22:41 | Tokens all: 54142 | Tokens cleaned: 53734\\n',\n",
       " 'INFO:__main__:Segment: 20240501145724 | Date: 2024-05-01 15:22:41 | Tokens all: 1561651 | Tokens cleaned: 1545944\\n',\n",
       " 'INFO:__main__:Segment: 20240501105638 | Date: 2024-05-01 15:22:41 | Tokens all: 177258 | Tokens cleaned: 176719\\n',\n",
       " 'INFO:__main__:Segment: 20240501123010 | Date: 2024-05-01 15:22:41 | Tokens all: 1520055 | Tokens cleaned: 1506004\\n',\n",
       " 'INFO:__main__:Segment: 20240501145117 | Date: 2024-05-01 15:22:41 | Tokens all: 116983 | Tokens cleaned: 116524\\n',\n",
       " 'INFO:__main__:Segment: 20240501152102 | Date: 2024-05-01 15:47:11 | Tokens all: 62674 | Tokens cleaned: 62164\\n',\n",
       " 'INFO:__main__:Segment: 20240501152711 | Date: 2024-05-01 15:51:21 | Tokens all: 1689381 | Tokens cleaned: 1672927\\n']"
      ]
     },
     "execution_count": 5,
     "metadata": {},
     "output_type": "execute_result"
    }
   ],
   "source": [
    "data"
   ]
  },
  {
   "cell_type": "code",
   "execution_count": 7,
   "metadata": {},
   "outputs": [],
   "source": [
    "with open('tokkens_info.txt', 'w') as txt_file:\n",
    "    for item in data:\n",
    "        txt_file.write(\"%s\\n\" % item)"
   ]
  },
  {
   "cell_type": "code",
   "execution_count": 8,
   "metadata": {},
   "outputs": [],
   "source": [
    "with open('tokkens_info.txt', 'a') as txt_file:\n",
    "    txt_file.write('Checking process...')"
   ]
  },
  {
   "cell_type": "code",
   "execution_count": null,
   "metadata": {},
   "outputs": [],
   "source": []
  }
 ],
 "metadata": {
  "kernelspec": {
   "display_name": "venv",
   "language": "python",
   "name": "python3"
  },
  "language_info": {
   "codemirror_mode": {
    "name": "ipython",
    "version": 3
   },
   "file_extension": ".py",
   "mimetype": "text/x-python",
   "name": "python",
   "nbconvert_exporter": "python",
   "pygments_lexer": "ipython3",
   "version": "3.12.3"
  }
 },
 "nbformat": 4,
 "nbformat_minor": 2
}
